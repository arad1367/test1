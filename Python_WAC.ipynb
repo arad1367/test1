{
  "nbformat": 4,
  "nbformat_minor": 0,
  "metadata": {
    "colab": {
      "provenance": [],
      "mount_file_id": "1omLb6flE39xemZ78kCrAUBaMy5V9XMnz",
      "authorship_tag": "ABX9TyP9A1dVcPSj7an1U77BWGEN",
      "include_colab_link": true
    },
    "kernelspec": {
      "name": "python3",
      "display_name": "Python 3"
    },
    "language_info": {
      "name": "python"
    }
  },
  "cells": [
    {
      "cell_type": "markdown",
      "metadata": {
        "id": "view-in-github",
        "colab_type": "text"
      },
      "source": [
        "<a href=\"https://colab.research.google.com/github/arad1367/test1/blob/main/Python_WAC.ipynb\" target=\"_parent\"><img src=\"https://colab.research.google.com/assets/colab-badge.svg\" alt=\"Open In Colab\"/></a>"
      ]
    },
    {
      "cell_type": "markdown",
      "source": [
        "### Introduction to Python\n",
        "\n",
        "* Data type, operators, variables, string, formatted string"
      ],
      "metadata": {
        "id": "-z47zcg1odV5"
      }
    },
    {
      "cell_type": "code",
      "execution_count": null,
      "metadata": {
        "id": "Oj--DmGcncsP",
        "colab": {
          "base_uri": "https://localhost:8080/"
        },
        "outputId": "90f80082-6489-433a-806e-e70b6b5bb278"
      },
      "outputs": [
        {
          "output_type": "stream",
          "name": "stdout",
          "text": [
            " Hello World! \n"
          ]
        }
      ],
      "source": [
        "# Try to print Hello World!\n",
        "print(\" Hello World! \")"
      ]
    },
    {
      "cell_type": "code",
      "source": [
        "# Example 1: Try to print your name\n",
        "print('My name is Pejman')"
      ],
      "metadata": {
        "colab": {
          "base_uri": "https://localhost:8080/"
        },
        "id": "GpYSIOkwaxaj",
        "outputId": "1287b225-331e-4dd7-b777-22e85a3083fb"
      },
      "execution_count": null,
      "outputs": [
        {
          "output_type": "stream",
          "name": "stdout",
          "text": [
            "My name is Pejman\n"
          ]
        }
      ]
    },
    {
      "cell_type": "code",
      "source": [
        "# int : 4, 9, 10\n",
        "# float : 10.5, 1.7, 3.8\n",
        "# String :  Pejman, Germany, Name, Budapest\n",
        "# Boolean : True(1), False(0)"
      ],
      "metadata": {
        "id": "5A3Q7_JnbCA_"
      },
      "execution_count": null,
      "outputs": []
    },
    {
      "cell_type": "code",
      "source": [
        "# Variables\n",
        "city_name = 'Budapest'\n",
        "name = 'Pejman'\n",
        "age = 33\n",
        "\n",
        "print(city_name, name, age)"
      ],
      "metadata": {
        "colab": {
          "base_uri": "https://localhost:8080/"
        },
        "id": "YGPK9Ka2cMAt",
        "outputId": "8e288148-570f-472f-8a36-955dea04b2b4"
      },
      "execution_count": null,
      "outputs": [
        {
          "output_type": "stream",
          "name": "stdout",
          "text": [
            "Budapest Pejman 33\n"
          ]
        }
      ]
    },
    {
      "cell_type": "code",
      "source": [
        "# Solution 1: (Not recommended by me)\n",
        "print('My name is ' + name + ', My city is ' + city_name + ' , my age is ' + str(age))"
      ],
      "metadata": {
        "colab": {
          "base_uri": "https://localhost:8080/"
        },
        "id": "OEsdzUY6cxv6",
        "outputId": "e117e1ae-8761-4f92-e775-4554f37af354"
      },
      "execution_count": null,
      "outputs": [
        {
          "output_type": "stream",
          "name": "stdout",
          "text": [
            "My name is Pejman, My city is Budapest , my age is 33\n"
          ]
        }
      ]
    },
    {
      "cell_type": "code",
      "source": [
        "# Solution 2: (Use f'')\n",
        "print(f'Hey, my name is: {name}. and my age is {age} and my city is {city_name}')"
      ],
      "metadata": {
        "colab": {
          "base_uri": "https://localhost:8080/"
        },
        "id": "MNyLALmgdwPs",
        "outputId": "340f2fd3-de3e-4abd-aeee-84910a64990e"
      },
      "execution_count": null,
      "outputs": [
        {
          "output_type": "stream",
          "name": "stdout",
          "text": [
            "Hey, my name is: Pejman. and my age is 33 and my city is Budapest\n"
          ]
        }
      ]
    },
    {
      "cell_type": "code",
      "source": [
        "# Type of our variable\n",
        "score = 7.6\n",
        "type(score)"
      ],
      "metadata": {
        "colab": {
          "base_uri": "https://localhost:8080/"
        },
        "id": "C0XWTBUzeVG6",
        "outputId": "01e1c91c-549c-4c9d-fdba-3f0d869d2d76"
      },
      "execution_count": null,
      "outputs": [
        {
          "output_type": "execute_result",
          "data": {
            "text/plain": [
              "float"
            ]
          },
          "metadata": {},
          "execution_count": 18
        }
      ]
    },
    {
      "cell_type": "code",
      "source": [
        "len(city_name)"
      ],
      "metadata": {
        "colab": {
          "base_uri": "https://localhost:8080/"
        },
        "id": "fOn02mideoOn",
        "outputId": "d42a3850-3bcf-4a62-c625-fc627e3abe52"
      },
      "execution_count": null,
      "outputs": [
        {
          "output_type": "execute_result",
          "data": {
            "text/plain": [
              "8"
            ]
          },
          "metadata": {},
          "execution_count": 19
        }
      ]
    },
    {
      "cell_type": "code",
      "source": [],
      "metadata": {
        "id": "MMyZdZTOgK6L"
      },
      "execution_count": null,
      "outputs": []
    }
  ]
}